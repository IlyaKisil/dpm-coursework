{
 "cells": [
  {
   "cell_type": "markdown",
   "metadata": {
    "toc-hr-collapsed": false
   },
   "source": [
    "# Table of Contents"
   ]
  },
  {
   "cell_type": "markdown",
   "metadata": {},
   "source": [
    "## Prerequisites and materials\n",
    "\n",
    "Through out this assignment you will be exposed to several python libraries:\n",
    "\n",
    "1. [NumPy](https://docs.scipy.org/doc/numpy-1.16.1/user/index.html) - the fundamental package for scientific computing with Python.\n",
    "2. [Matplotlib](https://matplotlib.org/) - 2D plotting library in Python and provides interface similar to MATLAB.\n",
    "3. [HOTTBOX](https://hottbox.github.io/stable/index.html) - the toolbox for multilinear analysis and tensor decompositions. Build on top of NumPy.\n",
    "\n",
    "Although, most of the tasks come with relevant code snippets and examples, you are encouraged to spend time to get familiar with these libraries."
   ]
  },
  {
   "cell_type": "markdown",
   "metadata": {
    "toc-hr-collapsed": false
   },
   "source": [
    "# Instructions and general guidlines\n",
    "\n",
    "## Before completing assignments\n",
    "It is strongly advised to prepend your Imperial ID to the filenames of notebooks with assignments. For example, if your Imperial ID is `abc123` and you want to complete assignments specified in `File_1.ipynb` then the new filename should be `abc123_File_1.ipynb`. We recommend to duplicated an existing file and then rename it.\n",
    "    "
   ]
  },
  {
   "cell_type": "markdown",
   "metadata": {
    "toc-hr-collapsed": true
   },
   "source": [
    "## Completing assignments within multiple binder sessions.\n",
    "\n",
    "1. Before closing binder session make sure that you have downloaded notebook on which you have been working on. This is very important, otherwise your progress will be completely lost without any chance of restroing it.\n",
    "\n",
    "    <img src=\"./imgs/notebook_download.png\" alt=\"Drawing\" style=\"width: 400px;\" id=\"notebook_download\"/>\n",
    "\n",
    "2. When you connect to binder for the second/other time, you will need to upload you notebook which you had previously downloaded (see step 1). In order to do that, just drag and drop you notebook, into the file browser, as shown on image below\n",
    "\n",
    "    <img src=\"./imgs/notebook_upload.png\" alt=\"Drawing\" style=\"width: 400px;\"/>"
   ]
  },
  {
   "cell_type": "markdown",
   "metadata": {
    "toc-hr-collapsed": true
   },
   "source": [
    "## Exporting and submiting results\n",
    "\n",
    "Before submission of `*.ipynb` file (and conversion to html), make sure that all cells have been sequentially executed from the very first one. You are required to submit:\n",
    "\n",
    "1. **Interactive** version of the notebooks, i.e. files with `*.ipynb` extension. \n",
    "\n",
    "    - If you opted for completing assignemts on `binder`, then you would need to download the final version of the notebook (see [screenshot](#notebook_download) above) and include that file in submission.    \n",
    "    - If you opted for completing assignments on you own PC, then no download is required and you can include your local file in submission.\n",
    "\n",
    "\n",
    "2. **Static** version of the notebook, i.e. files with `*.html` extension. Regardless of how you completed assignments (on binder or on your own PC), you need to export notebook as `html` file and include that file in submission.\n",
    "\n",
    "    <img src=\"./imgs/notebook_export_to_html.png\" alt=\"Drawing\" style=\"width: 1200px;\"/>"
   ]
  },
  {
   "cell_type": "markdown",
   "metadata": {
    "toc-hr-collapsed": false
   },
   "source": [
    "## Assignments\n",
    "\n",
    "### [Module 1: Tensors and basic operations](./1_Tensors_and_basic_operations.ipynb)\n",
    "\n",
    "### [Module 2: Part two](./2_Part_2.ipynb)\n"
   ]
  },
  {
   "cell_type": "markdown",
   "metadata": {
    "toc-hr-collapsed": false
   },
   "source": [
    "# Reporting problems and issues\n",
    "\n",
    "Please use one of [these forms](https://github.com/IlyaKisil/dpm-coursework/issues/new/choose) which supports [markdown](https://guides.github.com/features/mastering-markdown/) text formatting. It would also be helpful if you include as much relevant info as possible. This could include screenshots, code snippets etc.\n"
   ]
  },
  {
   "cell_type": "code",
   "execution_count": null,
   "metadata": {},
   "outputs": [],
   "source": []
  }
 ],
 "metadata": {
  "kernelspec": {
   "display_name": "dpm-coursework",
   "language": "python",
   "name": "dpm-coursework"
  },
  "language_info": {
   "codemirror_mode": {
    "name": "ipython",
    "version": 3
   },
   "file_extension": ".py",
   "mimetype": "text/x-python",
   "name": "python",
   "nbconvert_exporter": "python",
   "pygments_lexer": "ipython3",
   "version": "3.6.5"
  },
  "toc-autonumbering": false,
  "toc-showcode": true,
  "toc-showmarkdowntxt": false
 },
 "nbformat": 4,
 "nbformat_minor": 2
}
