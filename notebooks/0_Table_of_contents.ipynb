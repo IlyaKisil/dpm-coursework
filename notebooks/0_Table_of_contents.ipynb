{
 "cells": [
  {
   "cell_type": "markdown",
   "metadata": {
    "toc-hr-collapsed": false
   },
   "source": [
    "# Table of Contents"
   ]
  },
  {
   "cell_type": "markdown",
   "metadata": {},
   "source": [
    "## Prerequisites and materials\n",
    "\n",
    "Through out this assignment you will be exposed to several python libraries:\n",
    "\n",
    "1. [NumPy](https://docs.scipy.org/doc/numpy-1.16.1/user/index.html) - the fundamental package for scientific computing with Python.\n",
    "2. [Matplotlib](https://matplotlib.org/) - 2D plotting library in Python and provides interface similar to MATLAB.\n",
    "3. [HOTTBOX](https://hottbox.github.io/stable/index.html) - the toolbox for multilinear analysis and tensor decompositions. Build on top of NumPy.\n",
    "\n",
    "Although, most of the tasks come with relevant code snippets and examples, you are encouraged to spend time to get familiar with these libraries."
   ]
  },
  {
   "cell_type": "markdown",
   "metadata": {
    "toc-hr-collapsed": true
   },
   "source": [
    "## Instructions and general guidlines\n",
    "\n",
    "1. Complete assignments\n",
    "2. Completing assignments within multiple sessions.\n",
    "3. Export and submit results: downloading notebook or converting to pdf, html etc.\n",
    "\n",
    "\n",
    "> **IMPORTANT:** Before submittion `.ipynb` file make sure that all cells have been sequentially executed from the very first one."
   ]
  },
  {
   "cell_type": "markdown",
   "metadata": {
    "toc-hr-collapsed": false
   },
   "source": [
    "## Assignments\n",
    "\n",
    "### [Module 1: Tensors and basic operations](./1_Tensors_and_basic_operations.ipynb)\n",
    "\n",
    "### [Module 2: Part two](./2_Part_2.ipynb)\n"
   ]
  },
  {
   "cell_type": "markdown",
   "metadata": {
    "toc-hr-collapsed": true
   },
   "source": [
    "## Reporting problems and issues\n",
    "\n",
    "Please use one of [these forms](https://github.com/IlyaKisil/dpm-coursework/issues/new/choose) which supports `markdown` text formatting. It would also be helpful if you include as much relevant info as possible. This could include screenshots, code snippets etc.\n"
   ]
  }
 ],
 "metadata": {
  "kernelspec": {
   "display_name": "dpm-coursework",
   "language": "python",
   "name": "dpm-coursework"
  },
  "language_info": {
   "codemirror_mode": {
    "name": "ipython",
    "version": 3
   },
   "file_extension": ".py",
   "mimetype": "text/x-python",
   "name": "python",
   "nbconvert_exporter": "python",
   "pygments_lexer": "ipython3",
   "version": "3.6.5"
  },
  "toc-autonumbering": false,
  "toc-showcode": true,
  "toc-showmarkdowntxt": false
 },
 "nbformat": 4,
 "nbformat_minor": 2
}
