{
 "cells": [
  {
   "cell_type": "code",
   "execution_count": 1,
   "metadata": {},
   "outputs": [],
   "source": [
    "%load_ext autoreload\n",
    "%autoreload 2\n",
    "%matplotlib inline"
   ]
  },
  {
   "cell_type": "code",
   "execution_count": 2,
   "metadata": {},
   "outputs": [],
   "source": [
    "import numpy as np\n",
    "import matplotlib.pyplot as plt\n",
    "from hottbox.core import Tensor"
   ]
  },
  {
   "cell_type": "markdown",
   "metadata": {
    "toc-hr-collapsed": false
   },
   "source": [
    "[Return to Table of Contents](../index.ipynb)"
   ]
  },
  {
   "cell_type": "markdown",
   "metadata": {
    "toc-hr-collapsed": false
   },
   "source": [
    "# Tensors and basic operations"
   ]
  },
  {
   "cell_type": "markdown",
   "metadata": {
    "toc-hr-collapsed": true
   },
   "source": [
    "<img src=\"./imgs/tensors_dogs.jpg\" alt=\"Drawing\" style=\"width: 500px;\"/>\n",
    "\n",
    "Tensor is a multi-dimenaional array of data where each dimension is conventionally referred to as **mode**. Its order is defined by the number of its modes which is equivivalent to the number of indices required to identify a particular entry of a multi-dimensional array. For ease of visualisation and compact notation, we consider a third order tensor $\\mathbf{\\underline{X}} \\in \\mathbb{R}^{I \\times J \\times K}$. Thus, an element of a such tensor $\\mathbf{\\underline{X}} \\in \\mathbb{R}^{I \\times J \\times K}$ can be written in general form as:\n",
    "\n",
    "$$ x_{ijk} = \\mathbf{\\underline{X}}[i, j, k]$$\n",
    "\n",
    "> **Note:** In order to be consistent with python indexing, count of modes and elements within starts from zeros.\n",
    "\n",
    "Creation of a tensor starts with a formation of a multidimensional array of data."
   ]
  },
  {
   "cell_type": "code",
   "execution_count": 3,
   "metadata": {},
   "outputs": [
    {
     "name": "stdout",
     "output_type": "stream",
     "text": [
      "This tensor is of order 3 and consists of 24 elements.\n",
      "Sizes and names of its modes are (2, 3, 4) and ['mode-0', 'mode-1', 'mode-2'] respectively.\n"
     ]
    },
    {
     "data": {
      "text/plain": [
       "array([[[ 0,  1,  2,  3],\n",
       "        [ 4,  5,  6,  7],\n",
       "        [ 8,  9, 10, 11]],\n",
       "\n",
       "       [[12, 13, 14, 15],\n",
       "        [16, 17, 18, 19],\n",
       "        [20, 21, 22, 23]]])"
      ]
     },
     "execution_count": 3,
     "metadata": {},
     "output_type": "execute_result"
    }
   ],
   "source": [
    "# Create 3-d array of data\n",
    "array_3d = np.arange(24).reshape((2, 3, 4))\n",
    "\n",
    "# Create tensor\n",
    "tensor = Tensor(array_3d)\n",
    "\n",
    "# Result preview\n",
    "print(tensor)\n",
    "tensor.data"
   ]
  },
  {
   "cell_type": "markdown",
   "metadata": {
    "toc-hr-collapsed": true
   },
   "source": [
    "## **Assigment 1**\n",
    "\n",
    "1. Create a tensor of order 5 of any shape and all values equal to 5. Then calculate its Frobenious norm. \n",
    "2. Construct several tensors of order varying from 3 to 20 with the size of each dimension equal to 2. Plot relation between order of a tensor and number of its elements.\n",
    "3. Construct several tensors of order 3 with the size of each dimension varying from 3 to 15. Plot relation between the size of dimensions of a tensor and number of its elements.\n",
    "4. Analyse and compare obtained graphs."
   ]
  },
  {
   "cell_type": "markdown",
   "metadata": {},
   "source": [
    "### Solution: Part 1"
   ]
  },
  {
   "cell_type": "code",
   "execution_count": 4,
   "metadata": {},
   "outputs": [],
   "source": [
    "# Create a tensor\n"
   ]
  },
  {
   "cell_type": "code",
   "execution_count": 5,
   "metadata": {},
   "outputs": [],
   "source": [
    "# Calculate Frobenious norm\n"
   ]
  },
  {
   "cell_type": "markdown",
   "metadata": {},
   "source": [
    "### Solution: Part 2"
   ]
  },
  {
   "cell_type": "code",
   "execution_count": 6,
   "metadata": {},
   "outputs": [],
   "source": [
    "# Create tensors and collect information\n"
   ]
  },
  {
   "cell_type": "code",
   "execution_count": 7,
   "metadata": {},
   "outputs": [],
   "source": [
    "# Plot results\n"
   ]
  },
  {
   "cell_type": "markdown",
   "metadata": {},
   "source": [
    "### Solution: Part 3"
   ]
  },
  {
   "cell_type": "code",
   "execution_count": 8,
   "metadata": {},
   "outputs": [],
   "source": [
    "# Create tensors and collect information\n"
   ]
  },
  {
   "cell_type": "code",
   "execution_count": 9,
   "metadata": {},
   "outputs": [],
   "source": [
    "# Plot results\n"
   ]
  },
  {
   "cell_type": "markdown",
   "metadata": {},
   "source": [
    "### Solution: Part 4"
   ]
  },
  {
   "cell_type": "markdown",
   "metadata": {},
   "source": [
    "**Include comparison and analysis here**\n",
    "\n"
   ]
  },
  {
   "cell_type": "markdown",
   "metadata": {
    "toc-hr-collapsed": false
   },
   "source": [
    "# Most common tensor substructures\n",
    "<img src=\"./imgs/tensor_substructures.png\" alt=\"Drawing\" style=\"width: 500px;\"/>\n",
    "\n",
    "1. A **fiber** is a vector obtained by fixing all but one of the indices, e.g.  $\\mathbf{\\underline{X}}[i,:,k]$ is the mode-2 fiber (usually refered to as row fiber). \n",
    "\n",
    "- Fixing all but two of the indices yields a matrix called a **slice** of a tensor, e.g. $\\mathbf{\\underline{X}}[:,:,k]$ is the mode-[1,2] slice (usually refered to as frontal slice).\n",
    "\n",
    "**Note:** The same principals and definitions can be applied to a tensor of arbitrarily large order. On top of that, one can obtain a **subtensor** by fixing at least three indecies and let other vary."
   ]
  },
  {
   "cell_type": "code",
   "execution_count": 10,
   "metadata": {},
   "outputs": [
    {
     "data": {
      "text/plain": [
       "array([4, 5, 6, 7])"
      ]
     },
     "execution_count": 10,
     "metadata": {},
     "output_type": "execute_result"
    }
   ],
   "source": [
    "# Mode-2 fiber\n",
    "tensor.data[0,1,:]"
   ]
  },
  {
   "cell_type": "code",
   "execution_count": 11,
   "metadata": {},
   "outputs": [
    {
     "data": {
      "text/plain": [
       "array([[ 0,  1,  2,  3],\n",
       "       [ 4,  5,  6,  7],\n",
       "       [ 8,  9, 10, 11]])"
      ]
     },
     "execution_count": 11,
     "metadata": {},
     "output_type": "execute_result"
    }
   ],
   "source": [
    "# Frontal slice\n",
    "tensor.data[0,:,:]"
   ]
  },
  {
   "cell_type": "markdown",
   "metadata": {
    "toc-hr-collapsed": true
   },
   "source": [
    "## **Assigment 2**\n",
    "\n",
    "1. Create a tensor of order 4, that consists of 81 elements and display all its horizontal slices and five row fibers\n",
    "2. Create a tensor of order 3 and shape `(4,2,5)`, where values of each consequent frontal slice are doubled"
   ]
  },
  {
   "cell_type": "markdown",
   "metadata": {},
   "source": [
    "### Solution: Part 1"
   ]
  },
  {
   "cell_type": "code",
   "execution_count": 12,
   "metadata": {},
   "outputs": [],
   "source": [
    "# Create a tensor of order 4\n"
   ]
  },
  {
   "cell_type": "code",
   "execution_count": 13,
   "metadata": {},
   "outputs": [],
   "source": [
    "# Display slices\n"
   ]
  },
  {
   "cell_type": "code",
   "execution_count": 14,
   "metadata": {},
   "outputs": [],
   "source": [
    "# Display fibers\n"
   ]
  },
  {
   "cell_type": "markdown",
   "metadata": {},
   "source": [
    "### Solution: Part 2"
   ]
  },
  {
   "cell_type": "code",
   "execution_count": 15,
   "metadata": {},
   "outputs": [],
   "source": [
    "# Create a tensor of order 3\n"
   ]
  },
  {
   "cell_type": "markdown",
   "metadata": {
    "toc-hr-collapsed": false
   },
   "source": [
    "# Unfolding\n",
    "\n",
    "Conventionally, unfolding is considered to be a process of element mapping from a tensor to a matrix. In other words, it arranges the mode-$n$ fibers of a tensor to be the columns of the matrix and denoted as:\n",
    "\n",
    "$$\\mathbf{\\underline{A}} \\xrightarrow{n} \\mathbf{A}_{(n)}$$\n",
    "\n",
    "Thus, this operations requires to specify a mode along which a tensor will be unfolded. For a third order tensor, a visually representation of such operation is as following:\n",
    "\n",
    "<img src=\"./imgs/unfolding.png\" alt=\"Drawing\" style=\"width: 600px;\"/>\n",
    "\n",
    "In `hottbox` this functionality is available through the corresponding methods of the `Tensor` object, for instance:"
   ]
  },
  {
   "cell_type": "code",
   "execution_count": 16,
   "metadata": {},
   "outputs": [
    {
     "name": "stdout",
     "output_type": "stream",
     "text": [
      "This tensor is of order 2 and consists of 24 elements.\n",
      "Sizes and names of its modes are (2, 12) and ['mode-0', 'mode-1_mode-2'] respectively.\n"
     ]
    },
    {
     "data": {
      "text/plain": [
       "array([[ 0,  1,  2,  3,  4,  5,  6,  7,  8,  9, 10, 11],\n",
       "       [12, 13, 14, 15, 16, 17, 18, 19, 20, 21, 22, 23]])"
      ]
     },
     "execution_count": 16,
     "metadata": {},
     "output_type": "execute_result"
    }
   ],
   "source": [
    "# Create 3-d array of data\n",
    "array_3d = np.arange(24).reshape((2, 3, 4))\n",
    "\n",
    "# Create tensor\n",
    "tensor = Tensor(array_3d)\n",
    "\n",
    "# Unfolding of a tensor\n",
    "tensor.unfold(mode=0)\n",
    "\n",
    "# Result preview\n",
    "print(tensor)\n",
    "tensor.data"
   ]
  },
  {
   "cell_type": "markdown",
   "metadata": {
    "toc-hr-collapsed": true
   },
   "source": [
    "## **Assigment 3**\n",
    "\n",
    "1. Create a tensor, $\\mathbf{\\underline{A}}$, of order 4, so that its version unfolded along the second mode would have sizes `(5,72)`, that is $\\mathbf{A}_{(n)} \\in  \\mathbb{R}^{5 \\times 72}$. Validate your results by displaying a tensor after unfolding."
   ]
  },
  {
   "cell_type": "markdown",
   "metadata": {},
   "source": [
    "### Solution : Part 1"
   ]
  },
  {
   "cell_type": "code",
   "execution_count": 17,
   "metadata": {},
   "outputs": [],
   "source": [
    "# Create a tensor\n"
   ]
  },
  {
   "cell_type": "code",
   "execution_count": 18,
   "metadata": {},
   "outputs": [],
   "source": [
    "# Display unfolded version\n"
   ]
  },
  {
   "cell_type": "markdown",
   "metadata": {
    "toc-hr-collapsed": false
   },
   "source": [
    "# Mode-n product \n",
    "<img src=\"./imgs/mode_n_product.png\" alt=\"Drawing\" style=\"width: 600px;\"/>\n",
    "\n",
    "The mode-$n$ product is the multiplication of a tensor  by a matrix along the $n^{th}$ mode of a tensor. This essentially means that each mode-$n$ fiber should be multiplied by this matrix. Mathematically, this is expressed as:\n",
    "\n",
    "$$\\mathbf{\\underline{X}} \\times_n \\mathbf{A} = \\mathbf{\\underline{Y}} \\quad \\Leftrightarrow  \\quad \\mathbf{Y}_{(n)} = \\mathbf{A} \\mathbf{X}_{(n)}  $$"
   ]
  },
  {
   "cell_type": "code",
   "execution_count": 19,
   "metadata": {},
   "outputs": [
    {
     "name": "stdout",
     "output_type": "stream",
     "text": [
      "This tensor is of order 3 and consists of 40 elements.\n",
      "Sizes and names of its modes are (2, 5, 4) and ['mode-0', 'mode-1', 'mode-2'] respectively.\n"
     ]
    },
    {
     "data": {
      "text/plain": [
       "array([[ 20,  23,  26,  29,  56,  59,  62,  65],\n",
       "       [ 56,  68,  80,  92, 200, 212, 224, 236],\n",
       "       [ 92, 113, 134, 155, 344, 365, 386, 407],\n",
       "       [128, 158, 188, 218, 488, 518, 548, 578],\n",
       "       [164, 203, 242, 281, 632, 671, 710, 749]])"
      ]
     },
     "execution_count": 19,
     "metadata": {},
     "output_type": "execute_result"
    }
   ],
   "source": [
    "I, J, K = 2, 3, 4\n",
    "J_new = 5\n",
    "\n",
    "# Create tensor\n",
    "array_3d = np.arange(I * J * K).reshape(I, J ,K)\n",
    "X = Tensor(array_3d)\n",
    "\n",
    "# Create matrix\n",
    "A = np.arange(J_new * J).reshape(J_new, J)\n",
    "\n",
    "# Performs Mode-n product \n",
    "Y = X.mode_n_product(A, mode=1, inplace=False)\n",
    "\n",
    "# Preview of resulting tensor\n",
    "print(Y)\n",
    "\n",
    "# Preview of its unfolded version\n",
    "Y.unfold(mode=1, inplace=False).data"
   ]
  },
  {
   "cell_type": "markdown",
   "metadata": {
    "toc-hr-collapsed": true
   },
   "source": [
    "## **Assignment 4**\n",
    "\n",
    "1. Perform mode-n product of a 3-rd order tensor, $\\mathbf{\\underline{X}}$, with a matrix $\\mathbf{A} \\in  \\mathbb{R}^{5 \\times 4}$ provided that the resulting tensor, $\\mathbf{\\underline{Y}}$, consists of `100` elements. Validate your results. \n",
    "\n",
    "> **Note:** You are incouraged to experiment with optional parameter `inplace` and to investigate its effect on the result."
   ]
  },
  {
   "cell_type": "markdown",
   "metadata": {},
   "source": [
    "### Solution: Part 1"
   ]
  },
  {
   "cell_type": "code",
   "execution_count": 20,
   "metadata": {},
   "outputs": [],
   "source": [
    "# Create original tensor \n"
   ]
  },
  {
   "cell_type": "code",
   "execution_count": 21,
   "metadata": {},
   "outputs": [],
   "source": [
    "# Create matrix\n"
   ]
  },
  {
   "cell_type": "code",
   "execution_count": 22,
   "metadata": {},
   "outputs": [],
   "source": [
    "# Perform mode-n product \n"
   ]
  },
  {
   "cell_type": "code",
   "execution_count": 23,
   "metadata": {},
   "outputs": [],
   "source": [
    "# Validate equivalence between the left and right hand side\n"
   ]
  },
  {
   "cell_type": "markdown",
   "metadata": {},
   "source": [
    "# Properties of mode-n product\n",
    "\n",
    "1. For distinct modes in a series of multiplications, the order of the multiplication is irrelevent: \n",
    "\n",
    "    $$\\mathbf{\\underline{X}} \\times_n \\mathbf{A} \\times_m \\mathbf{B} = \\mathbf{\\underline{X}} \\times_m \\mathbf{B} \\times_n \\mathbf{A} \\quad (m \\neq n)$$\n",
    "\n",
    "- However, it does not hold if the modes are the same :\n",
    "\n",
    "    $$\\mathbf{\\underline{X}} \\times_n \\mathbf{A} \\times_n \\mathbf{B} = \\mathbf{\\underline{X}} \\times_n (\\mathbf{B}\\mathbf{A})$$"
   ]
  },
  {
   "cell_type": "markdown",
   "metadata": {
    "toc-hr-collapsed": true
   },
   "source": [
    "## **Assignment 5**\n",
    "\n",
    "1. Validate both properties empirically \n",
    "2. Prove second property analytically\n",
    "\n",
    "> **Note:** Be aware of consequences of optional parameter `inplace` (its default value is set to `True`)."
   ]
  },
  {
   "cell_type": "markdown",
   "metadata": {},
   "source": [
    "### Solution: Part 1"
   ]
  },
  {
   "cell_type": "code",
   "execution_count": 24,
   "metadata": {},
   "outputs": [],
   "source": [
    "# Create tensor\n"
   ]
  },
  {
   "cell_type": "code",
   "execution_count": 25,
   "metadata": {},
   "outputs": [],
   "source": [
    "# Create matrices\n"
   ]
  },
  {
   "cell_type": "code",
   "execution_count": 26,
   "metadata": {},
   "outputs": [],
   "source": [
    "# Validate property 1\n"
   ]
  },
  {
   "cell_type": "code",
   "execution_count": 27,
   "metadata": {},
   "outputs": [],
   "source": [
    "# Validate property 2\n"
   ]
  },
  {
   "cell_type": "markdown",
   "metadata": {
    "toc-hr-collapsed": true
   },
   "source": [
    "### Solution: Part 2\n",
    "\n",
    "Use [LaTeX syntax](https://stackoverflow.com/questions/13208286/how-to-write-latex-in-ipython-notebook) for analytical deriviations for the second property below\n"
   ]
  },
  {
   "cell_type": "code",
   "execution_count": 28,
   "metadata": {},
   "outputs": [
    {
     "data": {
      "text/latex": [
       "\n"
      ],
      "text/plain": [
       "<IPython.core.display.Latex object>"
      ]
     },
     "metadata": {},
     "output_type": "display_data"
    }
   ],
   "source": [
    "%%latex\n",
    "\n"
   ]
  }
 ],
 "metadata": {
  "kernelspec": {
   "display_name": "dpm-coursework",
   "language": "python",
   "name": "dpm-coursework"
  },
  "language_info": {
   "codemirror_mode": {
    "name": "ipython",
    "version": 3
   },
   "file_extension": ".py",
   "mimetype": "text/x-python",
   "name": "python",
   "nbconvert_exporter": "python",
   "pygments_lexer": "ipython3",
   "version": "3.6.5"
  },
  "toc-autonumbering": false,
  "toc-showcode": false,
  "toc-showmarkdowntxt": false
 },
 "nbformat": 4,
 "nbformat_minor": 2
}
